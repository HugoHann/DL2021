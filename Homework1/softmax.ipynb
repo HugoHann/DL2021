{
 "cells": [
  {
   "cell_type": "markdown",
   "metadata": {
    "tags": [
     "pdf-title"
    ]
   },
   "source": [
    "# Softmax exercise\n",
    "\n",
    "*Complete and hand in this completed worksheet (including its outputs and any supporting code outside of the worksheet) with your assignment submission. \n",
    "This exercise is analogous to the SVM exercise. You will:\n",
    "\n",
    "- implement a fully-vectorized **loss function** for the Softmax classifier\n",
    "- implement the fully-vectorized expression for its **analytic gradient**\n",
    "- **check your implementation** with numerical gradient\n",
    "- use a validation set to **tune the learning rate and regularization** strength\n",
    "- **optimize** the loss function with **SGD**\n",
    "- **visualize** the final learned weights\n"
   ]
  },
  {
   "cell_type": "code",
   "execution_count": 1,
   "metadata": {
    "ExecuteTime": {
     "end_time": "2021-10-04T12:28:20.644455Z",
     "start_time": "2021-10-04T12:28:20.400439Z"
    },
    "tags": [
     "pdf-ignore"
    ]
   },
   "outputs": [],
   "source": [
    "import random\n",
    "import numpy as np\n",
    "from sducs2019.data_utils import load_CIFAR10\n",
    "import matplotlib.pyplot as plt\n",
    "\n",
    "%matplotlib inline\n",
    "plt.rcParams['figure.figsize'] = (10.0, 8.0) # set default size of plots\n",
    "plt.rcParams['image.interpolation'] = 'nearest'\n",
    "plt.rcParams['image.cmap'] = 'gray'\n",
    "\n",
    "# for auto-reloading extenrnal modules\n",
    "# see http://stackoverflow.com/questions/1907993/autoreload-of-modules-in-ipython\n",
    "%load_ext autoreload\n",
    "%autoreload 2"
   ]
  },
  {
   "cell_type": "code",
   "execution_count": 2,
   "metadata": {
    "ExecuteTime": {
     "end_time": "2021-10-04T12:28:24.340472Z",
     "start_time": "2021-10-04T12:28:21.549093Z"
    },
    "tags": [
     "pdf-ignore"
    ]
   },
   "outputs": [
    {
     "name": "stdout",
     "output_type": "stream",
     "text": [
      "Train data shape:  (49000, 3073)\n",
      "Train labels shape:  (49000,)\n",
      "Validation data shape:  (1000, 3073)\n",
      "Validation labels shape:  (1000,)\n",
      "Test data shape:  (1000, 3073)\n",
      "Test labels shape:  (1000,)\n",
      "dev data shape:  (500, 3073)\n",
      "dev labels shape:  (500,)\n"
     ]
    }
   ],
   "source": [
    "def get_CIFAR10_data(num_training=49000, num_validation=1000, num_test=1000, num_dev=500):\n",
    "    \"\"\"\n",
    "    Load the CIFAR-10 dataset from disk and perform preprocessing to prepare\n",
    "    it for the linear classifier. These are the same steps as we used for the\n",
    "    SVM, but condensed to a single function.  \n",
    "    \"\"\"\n",
    "    # Load the raw CIFAR-10 data\n",
    "    cifar10_dir = 'sducs2019/datasets/cifar-10-batches-py'\n",
    "    \n",
    "    # Cleaning up variables to prevent loading data multiple times (which may cause memory issue)\n",
    "    try:\n",
    "       del X_train, y_train\n",
    "       del X_test, y_test\n",
    "       print('Clear previously loaded data.')\n",
    "    except:\n",
    "       pass\n",
    "\n",
    "    X_train, y_train, X_test, y_test = load_CIFAR10(cifar10_dir)\n",
    "    \n",
    "    # subsample the data\n",
    "    mask = list(range(num_training, num_training + num_validation))\n",
    "    X_val = X_train[mask]\n",
    "    y_val = y_train[mask]\n",
    "    mask = list(range(num_training))\n",
    "    X_train = X_train[mask]\n",
    "    y_train = y_train[mask]\n",
    "    mask = list(range(num_test))\n",
    "    X_test = X_test[mask]\n",
    "    y_test = y_test[mask]\n",
    "    mask = np.random.choice(num_training, num_dev, replace=False)\n",
    "    X_dev = X_train[mask]\n",
    "    y_dev = y_train[mask]\n",
    "    \n",
    "    # Preprocessing: reshape the image data into rows\n",
    "    X_train = np.reshape(X_train, (X_train.shape[0], -1))\n",
    "    X_val = np.reshape(X_val, (X_val.shape[0], -1))\n",
    "    X_test = np.reshape(X_test, (X_test.shape[0], -1))\n",
    "    X_dev = np.reshape(X_dev, (X_dev.shape[0], -1))\n",
    "    \n",
    "    # Normalize the data: subtract the mean image\n",
    "    mean_image = np.mean(X_train, axis = 0)\n",
    "    X_train -= mean_image\n",
    "    X_val -= mean_image\n",
    "    X_test -= mean_image\n",
    "    X_dev -= mean_image\n",
    "    \n",
    "    # add bias dimension and transform into columns\n",
    "    X_train = np.hstack([X_train, np.ones((X_train.shape[0], 1))])\n",
    "    X_val = np.hstack([X_val, np.ones((X_val.shape[0], 1))])\n",
    "    X_test = np.hstack([X_test, np.ones((X_test.shape[0], 1))])\n",
    "    X_dev = np.hstack([X_dev, np.ones((X_dev.shape[0], 1))])\n",
    "    \n",
    "    return X_train, y_train, X_val, y_val, X_test, y_test, X_dev, y_dev\n",
    "\n",
    "\n",
    "# Invoke the above function to get our data.\n",
    "X_train, y_train, X_val, y_val, X_test, y_test, X_dev, y_dev = get_CIFAR10_data()\n",
    "print('Train data shape: ', X_train.shape)\n",
    "print('Train labels shape: ', y_train.shape)\n",
    "print('Validation data shape: ', X_val.shape)\n",
    "print('Validation labels shape: ', y_val.shape)\n",
    "print('Test data shape: ', X_test.shape)\n",
    "print('Test labels shape: ', y_test.shape)\n",
    "print('dev data shape: ', X_dev.shape)\n",
    "print('dev labels shape: ', y_dev.shape)"
   ]
  },
  {
   "cell_type": "markdown",
   "metadata": {},
   "source": [
    "## Softmax Classifier\n",
    "\n",
    "Your code for this section will all be written inside **sducs2019/classifiers/softmax.py**. \n"
   ]
  },
  {
   "cell_type": "code",
   "execution_count": 4,
   "metadata": {
    "ExecuteTime": {
     "end_time": "2021-10-04T12:54:02.788926Z",
     "start_time": "2021-10-04T12:54:02.647048Z"
    }
   },
   "outputs": [
    {
     "name": "stdout",
     "output_type": "stream",
     "text": [
      "loss: 2.366328\n",
      "sanity check: 2.302585\n"
     ]
    }
   ],
   "source": [
    "# First implement the naive softmax loss function with nested loops.\n",
    "# Open the file sducs2019/classifiers/softmax.py and implement the\n",
    "# softmax_loss_naive function.\n",
    "\n",
    "from sducs2019.classifiers.softmax import softmax_loss_naive\n",
    "import time\n",
    "\n",
    "# Generate a random softmax weight matrix and use it to compute the loss.\n",
    "W = np.random.randn(3073, 10) * 0.0001\n",
    "loss, grad = softmax_loss_naive(W, X_dev, y_dev, 0.0)\n",
    "\n",
    "# As a rough sanity check, our loss should be something close to -log(0.1).\n",
    "print('loss: %f' % loss)\n",
    "print('sanity check: %f' % (-np.log(0.1)))"
   ]
  },
  {
   "cell_type": "markdown",
   "metadata": {
    "tags": [
     "pdf-inline"
    ]
   },
   "source": [
    "**Inline Question 1**\n",
    "\n",
    "Why do we expect our loss to be close to -log(0.1)? Explain briefly.**\n",
    "\n",
    "$\\color{blue}{\\textit Your Answer:}$ *一共有十个类，最初scores都差不多，所以我们希望接近-log(0.1)* \n",
    "\n"
   ]
  },
  {
   "cell_type": "code",
   "execution_count": 5,
   "metadata": {
    "ExecuteTime": {
     "end_time": "2021-10-04T12:58:09.931221Z",
     "start_time": "2021-10-04T12:58:04.728867Z"
    }
   },
   "outputs": [
    {
     "name": "stdout",
     "output_type": "stream",
     "text": [
      "numerical: -0.097817 analytic: -0.097817, relative error: 1.745586e-07\n",
      "numerical: -0.445957 analytic: -0.445957, relative error: 6.773364e-09\n",
      "numerical: -0.322940 analytic: -0.322940, relative error: 2.338420e-07\n",
      "numerical: 3.255966 analytic: 3.255966, relative error: 2.418784e-08\n",
      "numerical: -0.183707 analytic: -0.183707, relative error: 2.794433e-08\n",
      "numerical: -0.003874 analytic: -0.003874, relative error: 7.369761e-07\n",
      "numerical: -1.975530 analytic: -1.975530, relative error: 1.333111e-09\n",
      "numerical: -0.001002 analytic: -0.001002, relative error: 1.686089e-05\n",
      "numerical: 1.388580 analytic: 1.388580, relative error: 1.835913e-08\n",
      "numerical: 3.811055 analytic: 3.811055, relative error: 1.279075e-08\n",
      "numerical: -2.240419 analytic: -2.240419, relative error: 4.346691e-09\n",
      "numerical: -0.132299 analytic: -0.132299, relative error: 2.152984e-07\n",
      "numerical: -0.959965 analytic: -0.959965, relative error: 2.761503e-08\n",
      "numerical: 3.441066 analytic: 3.441066, relative error: 8.766413e-10\n",
      "numerical: -2.538300 analytic: -2.538300, relative error: 8.259178e-09\n",
      "numerical: 0.377471 analytic: 0.377471, relative error: 2.051719e-07\n",
      "numerical: 0.851385 analytic: 0.851384, relative error: 3.317408e-08\n",
      "numerical: 1.416610 analytic: 1.416609, relative error: 2.182315e-08\n",
      "numerical: -0.791157 analytic: -0.791158, relative error: 5.381347e-08\n",
      "numerical: 0.883480 analytic: 0.883480, relative error: 1.085930e-08\n"
     ]
    }
   ],
   "source": [
    "# Complete the implementation of softmax_loss_naive and implement a (naive)\n",
    "# version of the gradient that uses nested loops.\n",
    "loss, grad = softmax_loss_naive(W, X_dev, y_dev, 0.0)\n",
    "\n",
    "# As we did for the SVM, use numeric gradient checking as a debugging tool.\n",
    "# The numeric gradient should be close to the analytic gradient.\n",
    "from sducs2019.gradient_check import grad_check_sparse\n",
    "f = lambda w: softmax_loss_naive(w, X_dev, y_dev, 0.0)[0]\n",
    "grad_numerical = grad_check_sparse(f, W, grad, 10)\n",
    "\n",
    "# similar to SVM case, do another gradient check with regularization\n",
    "loss, grad = softmax_loss_naive(W, X_dev, y_dev, 5e1)\n",
    "f = lambda w: softmax_loss_naive(w, X_dev, y_dev, 5e1)[0]\n",
    "grad_numerical = grad_check_sparse(f, W, grad, 10)"
   ]
  },
  {
   "cell_type": "code",
   "execution_count": 6,
   "metadata": {
    "ExecuteTime": {
     "end_time": "2021-10-04T12:58:14.914257Z",
     "start_time": "2021-10-04T12:58:14.761425Z"
    }
   },
   "outputs": [
    {
     "name": "stdout",
     "output_type": "stream",
     "text": [
      "naive loss: 2.366328e+00 computed in 0.131508s\n",
      "vectorized loss: 2.366328e+00 computed in 0.003291s\n",
      "Loss difference: 0.000000\n",
      "Gradient difference: 0.000000\n"
     ]
    }
   ],
   "source": [
    "# Now that we have a naive implementation of the softmax loss function and its gradient,\n",
    "# implement a vectorized version in softmax_loss_vectorized.\n",
    "# The two versions should compute the same results, but the vectorized version should be\n",
    "# much faster.\n",
    "tic = time.time()\n",
    "loss_naive, grad_naive = softmax_loss_naive(W, X_dev, y_dev, 0.000005)\n",
    "toc = time.time()\n",
    "print('naive loss: %e computed in %fs' % (loss_naive, toc - tic))\n",
    "\n",
    "from sducs2019.classifiers.softmax import softmax_loss_vectorized\n",
    "tic = time.time()\n",
    "loss_vectorized, grad_vectorized = softmax_loss_vectorized(W, X_dev, y_dev, 0.000005)\n",
    "toc = time.time()\n",
    "print('vectorized loss: %e computed in %fs' % (loss_vectorized, toc - tic))\n",
    "\n",
    "# As we did for the SVM, we use the Frobenius norm to compare the two versions\n",
    "# of the gradient.\n",
    "grad_difference = np.linalg.norm(grad_naive - grad_vectorized, ord='fro')\n",
    "print('Loss difference: %f' % np.abs(loss_naive - loss_vectorized))\n",
    "print('Gradient difference: %f' % grad_difference)"
   ]
  },
  {
   "cell_type": "code",
   "execution_count": 8,
   "metadata": {
    "ExecuteTime": {
     "end_time": "2021-10-04T13:00:31.571470Z",
     "start_time": "2021-10-04T13:00:14.835155Z"
    },
    "tags": [
     "code"
    ]
   },
   "outputs": [
    {
     "name": "stdout",
     "output_type": "stream",
     "text": [
      "iteration 0 / 1500: loss 778.071793\n",
      "iteration 100 / 1500: loss 285.579897\n",
      "iteration 200 / 1500: loss 105.818904\n",
      "iteration 300 / 1500: loss 40.132298\n",
      "iteration 400 / 1500: loss 15.923923\n",
      "iteration 500 / 1500: loss 7.190582\n",
      "iteration 600 / 1500: loss 3.978629\n",
      "iteration 700 / 1500: loss 2.754787\n",
      "iteration 800 / 1500: loss 2.289907\n",
      "iteration 900 / 1500: loss 2.140020\n",
      "iteration 1000 / 1500: loss 2.154230\n",
      "iteration 1100 / 1500: loss 2.053114\n",
      "iteration 1200 / 1500: loss 2.047083\n",
      "iteration 1300 / 1500: loss 2.057614\n",
      "iteration 1400 / 1500: loss 2.043514\n",
      "iteration 0 / 1500: loss 1542.261031\n",
      "iteration 100 / 1500: loss 207.878388\n",
      "iteration 200 / 1500: loss 29.606696\n",
      "iteration 300 / 1500: loss 5.767576\n",
      "iteration 400 / 1500: loss 2.625633\n",
      "iteration 500 / 1500: loss 2.234089\n",
      "iteration 600 / 1500: loss 2.129355\n",
      "iteration 700 / 1500: loss 2.161441\n",
      "iteration 800 / 1500: loss 2.102396\n",
      "iteration 900 / 1500: loss 2.137049\n",
      "iteration 1000 / 1500: loss 2.105236\n",
      "iteration 1100 / 1500: loss 2.147648\n",
      "iteration 1200 / 1500: loss 2.152890\n",
      "iteration 1300 / 1500: loss 2.129796\n",
      "iteration 1400 / 1500: loss 2.154710\n",
      "iteration 0 / 1500: loss 778.481984\n",
      "iteration 100 / 1500: loss 6.911285\n",
      "iteration 200 / 1500: loss 2.123891\n",
      "iteration 300 / 1500: loss 2.139343\n",
      "iteration 400 / 1500: loss 2.012312\n",
      "iteration 500 / 1500: loss 2.162850\n",
      "iteration 600 / 1500: loss 2.106683\n",
      "iteration 700 / 1500: loss 2.087114\n",
      "iteration 800 / 1500: loss 2.072354\n",
      "iteration 900 / 1500: loss 2.085427\n",
      "iteration 1000 / 1500: loss 2.087660\n",
      "iteration 1100 / 1500: loss 2.087492\n",
      "iteration 1200 / 1500: loss 2.102650\n",
      "iteration 1300 / 1500: loss 2.072208\n",
      "iteration 1400 / 1500: loss 2.124862\n",
      "iteration 0 / 1500: loss 1527.477313\n",
      "iteration 100 / 1500: loss 2.173091\n",
      "iteration 200 / 1500: loss 2.121795\n",
      "iteration 300 / 1500: loss 2.112319\n",
      "iteration 400 / 1500: loss 2.144138\n",
      "iteration 500 / 1500: loss 2.175850\n",
      "iteration 600 / 1500: loss 2.158525\n",
      "iteration 700 / 1500: loss 2.161637\n",
      "iteration 800 / 1500: loss 2.154431\n",
      "iteration 900 / 1500: loss 2.115709\n",
      "iteration 1000 / 1500: loss 2.165124\n",
      "iteration 1100 / 1500: loss 2.137341\n",
      "iteration 1200 / 1500: loss 2.150622\n",
      "iteration 1300 / 1500: loss 2.171639\n",
      "iteration 1400 / 1500: loss 2.176455\n",
      "lr 1.000000e-07 reg 2.500000e+04 train accuracy: 0.331020 val accuracy: 0.351000\n",
      "lr 1.000000e-07 reg 5.000000e+04 train accuracy: 0.314531 val accuracy: 0.327000\n",
      "lr 5.000000e-07 reg 2.500000e+04 train accuracy: 0.323592 val accuracy: 0.327000\n",
      "lr 5.000000e-07 reg 5.000000e+04 train accuracy: 0.308469 val accuracy: 0.319000\n",
      "best validation accuracy achieved during cross-validation: 0.351000\n"
     ]
    }
   ],
   "source": [
    "# Use the validation set to tune hyperparameters (regularization strength and\n",
    "# learning rate). You should experiment with different ranges for the learning\n",
    "# rates and regularization strengths; if you are careful you should be able to\n",
    "# get a classification accuracy of over 0.35 on the validation set.\n",
    "from sducs2019.classifiers import Softmax\n",
    "results = {}\n",
    "best_val = -1\n",
    "best_softmax = None\n",
    "learning_rates = [1e-7, 5e-7]\n",
    "regularization_strengths = [2.5e4, 5e4]\n",
    "\n",
    "################################################################################\n",
    "# TODO:                                                                        #\n",
    "# Use the validation set to set the learning rate and regularization strength. #\n",
    "# This should be identical to the validation that you did for the SVM; save    #\n",
    "# the best trained softmax classifer in best_softmax.                          #\n",
    "################################################################################\n",
    "# *****START OF YOUR CODE (DO NOT DELETE/MODIFY THIS LINE)*****\n",
    "\n",
    "#pass\n",
    "for lr in learning_rates:\n",
    "    for reg in regularization_strengths:\n",
    "        classifier_softmax=Softmax()\n",
    "        loss_val=classifier_softmax.train(X_train,y_train,learning_rate=lr,reg=reg,num_iters=1500,verbose=True)\n",
    "        train_acc=np.mean(classifier_softmax.predict(X_train)==y_train)\n",
    "        val_acc=np.mean(classifier_softmax.predict(X_val)==y_val)\n",
    "        results[(lr,reg)]=(train_acc,val_acc)\n",
    "        if(val_acc>best_val):\n",
    "            best_softmax=classifier_softmax\n",
    "            best_val=val_acc\n",
    "\n",
    "# *****END OF YOUR CODE (DO NOT DELETE/MODIFY THIS LINE)*****\n",
    "    \n",
    "# Print out results.\n",
    "for lr, reg in sorted(results):\n",
    "    train_accuracy, val_accuracy = results[(lr, reg)]\n",
    "    print('lr %e reg %e train accuracy: %f val accuracy: %f' % (\n",
    "                lr, reg, train_accuracy, val_accuracy))\n",
    "    \n",
    "print('best validation accuracy achieved during cross-validation: %f' % best_val)"
   ]
  },
  {
   "cell_type": "code",
   "execution_count": 9,
   "metadata": {
    "ExecuteTime": {
     "end_time": "2021-10-04T13:00:44.854581Z",
     "start_time": "2021-10-04T13:00:44.835201Z"
    }
   },
   "outputs": [
    {
     "name": "stdout",
     "output_type": "stream",
     "text": [
      "softmax on raw pixels final test set accuracy: 0.343000\n"
     ]
    }
   ],
   "source": [
    "# evaluate on test set\n",
    "# Evaluate the best softmax on test set\n",
    "y_test_pred = best_softmax.predict(X_test)\n",
    "test_accuracy = np.mean(y_test == y_test_pred)\n",
    "print('softmax on raw pixels final test set accuracy: %f' % (test_accuracy, ))"
   ]
  },
  {
   "cell_type": "markdown",
   "metadata": {
    "tags": [
     "pdf-inline"
    ]
   },
   "source": [
    "**Inline Question 2** - *True or False*\n",
    "\n",
    "Suppose the overall training loss is defined as the sum of the per-datapoint loss over all training examples. It is possible to add a new datapoint to a training set that would leave the SVM loss unchanged, but this is not the case with the Softmax classifier loss.\n",
    "\n",
    "$\\color{blue}{\\textit Your Answer:}$\n",
    "*True*\n",
    "\n",
    "\n",
    "$\\color{blue}{\\textit Your Explanation:}$\n",
    "*因为SVM求loss的时候会有max操作，如果新加的点求的是0，那么对loss没有改变。而softmax添加新的训练样本则会改变数据分布，loss肯定会改变*\n"
   ]
  },
  {
   "cell_type": "code",
   "execution_count": 10,
   "metadata": {
    "ExecuteTime": {
     "end_time": "2021-10-04T13:05:07.325123Z",
     "start_time": "2021-10-04T13:05:06.958704Z"
    }
   },
   "outputs": [
    {
     "data": {
      "image/png": "[encoded data removed]",
      "text/plain": [
       "<Figure size 720x576 with 10 Axes>"
      ]
     },
     "metadata": {
      "needs_background": "light"
     },
     "output_type": "display_data"
    }
   ],
   "source": [
    "# Visualize the learned weights for each class\n",
    "w = best_softmax.W[:-1,:] # strip out the bias\n",
    "w = w.reshape(32, 32, 3, 10)\n",
    "\n",
    "w_min, w_max = np.min(w), np.max(w)\n",
    "\n",
    "classes = ['plane', 'car', 'bird', 'cat', 'deer', 'dog', 'frog', 'horse', 'ship', 'truck']\n",
    "for i in range(10):\n",
    "    plt.subplot(2, 5, i + 1)\n",
    "    \n",
    "    # Rescale the weights to be between 0 and 255\n",
    "    wimg = 255.0 * (w[:, :, :, i].squeeze() - w_min) / (w_max - w_min)\n",
    "    plt.imshow(wimg.astype('uint8'))\n",
    "    plt.axis('off')\n",
    "    plt.title(classes[i])"
   ]
  },
  {
   "cell_type": "code",
   "execution_count": null,
   "metadata": {},
   "outputs": [],
   "source": []
  }
 ],
 "metadata": {
  "kernelspec": {
   "display_name": "Python 3 (ipykernel)",
   "language": "python",
   "name": "python3"
  },
  "language_info": {
   "codemirror_mode": {
    "name": "ipython",
    "version": 3
   },
   "file_extension": ".py",
   "mimetype": "text/x-python",
   "name": "python",
   "nbconvert_exporter": "python",
   "pygments_lexer": "ipython3",
   "version": "3.8.10"
  },
  "toc": {
   "base_numbering": 1,
   "nav_menu": {},
   "number_sections": true,
   "sideBar": true,
   "skip_h1_title": false,
   "title_cell": "Table of Contents",
   "title_sidebar": "Contents",
   "toc_cell": false,
   "toc_position": {},
   "toc_section_display": true,
   "toc_window_display": false
  }
 },
 "nbformat": 4,
 "nbformat_minor": 4
}
